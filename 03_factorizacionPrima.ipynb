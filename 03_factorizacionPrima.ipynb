{
  "nbformat": 4,
  "nbformat_minor": 0,
  "metadata": {
    "colab": {
      "name": "03_factorizacionPrima.ipynb",
      "provenance": [],
      "include_colab_link": true
    },
    "kernelspec": {
      "name": "python3",
      "display_name": "Python 3"
    },
    "language_info": {
      "name": "python"
    }
  },
  "cells": [
    {
      "cell_type": "markdown",
      "metadata": {
        "id": "view-in-github",
        "colab_type": "text"
      },
      "source": [
        "<a href=\"https://colab.research.google.com/github/TMikeM/TEORIA-DE-NUMEROS/blob/main/03_factorizacionPrima.ipynb\" target=\"_parent\"><img src=\"https://colab.research.google.com/assets/colab-badge.svg\" alt=\"Open In Colab\"/></a>"
      ]
    },
    {
      "cell_type": "markdown",
      "source": [
        "La factorización prima es la forma en la que podemos descomponer un número en factores cuyos numeros son primos, esto se deriva de la Teoría de la aritmética blah blah, para que no se me olvide poner algo acá"
      ],
      "metadata": {
        "id": "OifMt86Pp4yd"
      }
    },
    {
      "cell_type": "code",
      "execution_count": 44,
      "metadata": {
        "id": "IAD5jveh82P2"
      },
      "outputs": [],
      "source": [
        "#Importamos la libreria numpy para usar arreglos\n",
        "import numpy as np"
      ]
    },
    {
      "cell_type": "code",
      "source": [
        "def factoriza(n):\n",
        "  div = 2\n",
        "  factores=[]\n",
        "  expo = []\n",
        "  cero = []\n",
        "  k = 0\n",
        "  contFact = 0\n",
        "  \n",
        "  if n>1: #restricciones para el funcionamiento\n",
        "    \n",
        "    while n//div!=0:\n",
        "      \n",
        "      if n%div == 0:\n",
        "        if k == 0:\n",
        "          factores.append(div)\n",
        "          print(f\"El valor actual de la division es {div}\")\n",
        "        n = n//div \n",
        "        k = k+1\n",
        "       \n",
        "      else: \n",
        "        print(f\"el exponente que se va agregar es: {k}\")\n",
        "        expo.append(k)  \n",
        "        div = div + 1\n",
        "        k=0\n",
        "   \n",
        "          \n",
        "\n",
        "        #factores.append(div)\n",
        "        \n",
        "    \n",
        "\n",
        "\n",
        "    print(f\"Factores son: {factores} y sus exponentes: {expo}\")\n",
        "  \n",
        "  else:\n",
        "    print(\"Este programa solo funciona con numeros positivos mayores de 1\")"
      ],
      "metadata": {
        "id": "ldGOm7IXYREh"
      },
      "execution_count": 97,
      "outputs": []
    },
    {
      "cell_type": "code",
      "source": [
        "factoriza(60) #[2,3,5] [2,1,1] es obligatorio que sea en orden ascendente"
      ],
      "metadata": {
        "colab": {
          "base_uri": "https://localhost:8080/"
        },
        "id": "Mhz-qKN0tQTR",
        "outputId": "462d7af4-0c40-4a93-c696-c60289734ee8"
      },
      "execution_count": 98,
      "outputs": [
        {
          "output_type": "stream",
          "name": "stdout",
          "text": [
            "El valor actual de la division es 2\n",
            "el exponente que se va agregar es: 2\n",
            "El valor actual de la division es 3\n",
            "el exponente que se va agregar es: 1\n",
            "el exponente que se va agregar es: 0\n",
            "El valor actual de la division es 5\n",
            "Factores son: [2, 3, 5] y sus exponentes: [2, 1, 0]\n"
          ]
        }
      ]
    },
    {
      "cell_type": "code",
      "source": [
        "def Test(u):#ejemplo, pa que no se me olvide\n",
        "  b = 0\n",
        "  a = b +3"
      ],
      "metadata": {
        "id": "CvdV816crSZr"
      },
      "execution_count": null,
      "outputs": []
    },
    {
      "cell_type": "code",
      "source": [
        ""
      ],
      "metadata": {
        "id": "jQGRONTkENsq"
      },
      "execution_count": null,
      "outputs": []
    }
  ]
}
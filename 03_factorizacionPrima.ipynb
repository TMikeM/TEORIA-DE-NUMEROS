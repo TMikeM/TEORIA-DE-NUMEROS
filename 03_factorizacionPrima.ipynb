{
  "nbformat": 4,
  "nbformat_minor": 0,
  "metadata": {
    "colab": {
      "name": "03_factorizacionPrima.ipynb",
      "provenance": [],
      "include_colab_link": true
    },
    "kernelspec": {
      "name": "python3",
      "display_name": "Python 3"
    },
    "language_info": {
      "name": "python"
    }
  },
  "cells": [
    {
      "cell_type": "markdown",
      "metadata": {
        "id": "view-in-github",
        "colab_type": "text"
      },
      "source": [
        "<a href=\"https://colab.research.google.com/github/TMikeM/TEORIA-DE-NUMEROS/blob/main/03_factorizacionPrima.ipynb\" target=\"_parent\"><img src=\"https://colab.research.google.com/assets/colab-badge.svg\" alt=\"Open In Colab\"/></a>"
      ]
    },
    {
      "cell_type": "markdown",
      "source": [
        "El **Teorema Fundamental de la Aritmética** menciona que todo número se puede descomponer de forma única como producto de factores primos. Por ejemplo: $60 = 2^2 \\cdot 3^1 \\cdot 5^1$\n",
        "\n",
        "Se contruyó una función `factoriza()` que reciba un entero positivo  y cuyo output sea un array donde la primera ﬁla contiene los numeros primos\n",
        "de la factorización en orden ascendente y la segunda ﬁla contiene las potencias correspondientes. Por ejemplo `factoriza(60)`  el output será el numpy array `[[2,3,5],[2,1,1]]` .\n",
        "\n",
        "Adicionalmente se creó una función llamada `test()` veriﬁca los calculos que hizo la función `factoriza()`"
      ],
      "metadata": {
        "id": "OifMt86Pp4yd"
      }
    },
    {
      "cell_type": "code",
      "execution_count": 40,
      "metadata": {
        "id": "IAD5jveh82P2"
      },
      "outputs": [],
      "source": [
        "#Importamos la libreria numpy para usar arreglos\n",
        "import numpy as np"
      ]
    },
    {
      "cell_type": "code",
      "source": [
        "def factoriza(n):\n",
        "  div = 2\n",
        "  factores=[]\n",
        "  expo = []\n",
        "  k = 0\n",
        "  \n",
        "  if n>1: #restricciones para el funcionamiento\n",
        "    \n",
        "    #Este bule se repite hasta que acabe de dividir totalmente a n\n",
        "    while n//div != 0:\n",
        "      \n",
        "      #Si el modulo da cero significa que son divisibles\n",
        "      if n%div == 0:\n",
        "        if k == 0:\n",
        "          factores.append(div)\n",
        "        n = n//div \n",
        "        k = k+1\n",
        "\n",
        "        #Para que agregue la repetición del último factor\n",
        "        if n == 1:\n",
        "          expo.append(k)\n",
        "      \n",
        "      #si no son divisibles, busca el siguiente numero aumentando div\n",
        "      else:\n",
        "        #Para evitar que agregue ceros cuando div no es divisible\n",
        "        if k != 0:\n",
        "          expo.append(k)\n",
        "          \n",
        "        div = div + 1\n",
        "        k=0\n",
        "\n",
        "    print(f\"Los factores son: {factores} y sus exponentes: {expo}\")\n",
        "  \n",
        "  else:\n",
        "    print(\"Este programa solo funciona con numeros positivos mayores de 1\")"
      ],
      "metadata": {
        "id": "ldGOm7IXYREh"
      },
      "execution_count": 48,
      "outputs": []
    },
    {
      "cell_type": "code",
      "source": [
        "factoriza(81)"
      ],
      "metadata": {
        "colab": {
          "base_uri": "https://localhost:8080/"
        },
        "id": "Mhz-qKN0tQTR",
        "outputId": "77ce8f4d-99c7-4dbc-97dc-95e2c9fd7972"
      },
      "execution_count": 49,
      "outputs": [
        {
          "output_type": "stream",
          "name": "stdout",
          "text": [
            "Los factores son: [3] y sus exponentes: [4]\n"
          ]
        }
      ]
    },
    {
      "cell_type": "code",
      "source": [
        "def test(lista1, lista2): #Falta esta funcion"
      ],
      "metadata": {
        "id": "jQGRONTkENsq"
      },
      "execution_count": null,
      "outputs": []
    }
  ]
}
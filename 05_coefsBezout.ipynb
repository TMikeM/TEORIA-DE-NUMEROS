{
  "nbformat": 4,
  "nbformat_minor": 0,
  "metadata": {
    "colab": {
      "name": "05_coefsBezout.ipynb",
      "provenance": [],
      "collapsed_sections": [],
      "authorship_tag": "ABX9TyPTBSyauhxw8p6SEYZsyvpH",
      "include_colab_link": true
    },
    "kernelspec": {
      "name": "python3",
      "display_name": "Python 3"
    },
    "language_info": {
      "name": "python"
    }
  },
  "cells": [
    {
      "cell_type": "markdown",
      "metadata": {
        "id": "view-in-github",
        "colab_type": "text"
      },
      "source": [
        "<a href=\"https://colab.research.google.com/github/TMikeM/TEORIA-DE-NUMEROS/blob/main/05_coefsBezout.ipynb\" target=\"_parent\"><img src=\"https://colab.research.google.com/assets/colab-badge.svg\" alt=\"Open In Colab\"/></a>"
      ]
    },
    {
      "cell_type": "markdown",
      "source": [
        "## <CENTER> **COEFICIENTE DE BEZOUT** </CENTER>\n",
        "\n",
        "Se codificó una función `coefs_bezout(a,b)` que reciba dos números enteros positivos $ a, b $ y calcule los coeficientes de bezout. Es decir su output sean dos números $s$ y $t$ tales que $a \\cdot s + b \\cdot t = mcd(a,b)$\n",
        "\n",
        "- Adicionalmente se creó una función `inverso_modulo(a,m)`  cuyo output es un entero: el inverso de $a$ en $\\mathbb{Z}_m$."
      ],
      "metadata": {
        "id": "0cNTAk3sI1HZ"
      }
    },
    {
      "cell_type": "code",
      "source": [
        "def coefs_bezout (a, b):\n",
        "    s= 1 #Esta variable representa a s en la formula\n",
        "    s_1 = 0 #Esta variable es temporal de s\n",
        "    t = 0 #Esta variable representa a t en la formula\n",
        "    t_1 = 1 #Esta variable es temporal de t\n",
        "\n",
        "    while b!= 0:\n",
        "      cociente = a // b #Esta división entera permite\n",
        "      \n",
        "      #Esto es un cambio de variables a -> b   y   b -> a%b\n",
        "      a, b    =   b, (a%b)\n",
        "\n",
        "      #Este es un cambio de variables entre xx -> s - cociente*xx   y   s -> xx\n",
        "      s_1, s    =    s - cociente*s_1, s_1\n",
        "\n",
        "      #Este es un cambio de variable entre yy -> y - cociente*xx    y   y -> yy\n",
        "      t_1, t    =    t - cociente*t_1, t_1\n",
        "\n",
        "\n",
        "    return ( s, t )"
      ],
      "metadata": {
        "id": "hH1UvhqfZ9EO"
      },
      "execution_count": 128,
      "outputs": []
    },
    {
      "cell_type": "code",
      "source": [
        "coefs_bezout(273, 110)"
      ],
      "metadata": {
        "colab": {
          "base_uri": "https://localhost:8080/"
        },
        "id": "gCTmi58ydwBg",
        "outputId": "f56abcff-4682-4311-bef4-8b6b568eb178"
      },
      "execution_count": 129,
      "outputs": [
        {
          "output_type": "execute_result",
          "data": {
            "text/plain": [
              "(27, -67)"
            ]
          },
          "metadata": {},
          "execution_count": 129
        }
      ]
    },
    {
      "cell_type": "code",
      "source": [
        "def inverso_modulo (a,m): #Falta esta función"
      ],
      "metadata": {
        "id": "5_clPWYZeCV_"
      },
      "execution_count": null,
      "outputs": []
    },
    {
      "cell_type": "code",
      "source": [
        "def testCoefs_bezout(a,b):\n",
        "  s= 1 #Esta variable representa a s en la formula\n",
        "  s_1 = 0\n",
        "  t = 0 #Esta variable representa a t en la formula\n",
        "  t_1 = 1\n",
        "\n",
        "  while b!= 0:\n",
        "      q = a // b\n",
        "      print(f\"el valor de q es: {q}\")\n",
        "         #Esto es un cambio de variables a -> b y b -> (a%b)\n",
        "      print(f\"Esta es a antes del cambio {a}\\n\")\n",
        "      print(f\"Esta es b antes del cambio {b}\\n\")\n",
        "  \n",
        "      a, b    =   b, (a%b)\n",
        "    \n",
        "      print(f\"Esta es a despues del cambio {a}\\n\")\n",
        "      print(f\"Esta es b antes del cambio {b}\\n\")\n",
        "      print(\"-----------------------------------\")\n",
        "\n",
        "        #Este es un cambio de variables entre s_1 -> s - q*s_1,  y,  s -> s_1\n",
        "      print(f\"Esta es s_1 antes del cambio {s_1}\\n\")\n",
        "      print(f\"Esta es s antes del cambio {s}\\n\")\n",
        "          \n",
        "      s_1, s    =    s - q*s_1, s_1\n",
        "\n",
        "      print(f\"Esta es s_1 despues del cambio {s_1}\\n\")\n",
        "      print(f\"Esta es s antes del cambio {s}\\n\")\n",
        "      print(\"-----------------------------------\")\n",
        "          \n",
        "          #Este es un cambio de variable entre t_1 -> y - q*t_1,   y,  t -> t_1\n",
        "      print(f\"Esta es t_1 antes del cambio {t_1}\\n\")\n",
        "      print(f\"Esta es t antes del cambio {t}\\n\")\n",
        "          \n",
        "      t_1, t    =    t - q*t_1, t_1\n",
        "\n",
        "      print(f\"Esta es t_1 despues del cambio {t_1}\\n\")\n",
        "      print(f\"Esta es t antes del cambio {t}\\n\")\n",
        "      print(\"----------SE REINICIA EL BUCLE----------------\")\n",
        "\n",
        "  return (s, t)  "
      ],
      "metadata": {
        "id": "xfJIcJcKet0c"
      },
      "execution_count": 135,
      "outputs": []
    },
    {
      "cell_type": "code",
      "source": [
        "testCoefs_bezout (273, 110)\n",
        "#Lo que imprime es la prueba de escritorio de esta función"
      ],
      "metadata": {
        "id": "IQ-v7VVtJF6s"
      },
      "execution_count": null,
      "outputs": []
    }
  ]
}
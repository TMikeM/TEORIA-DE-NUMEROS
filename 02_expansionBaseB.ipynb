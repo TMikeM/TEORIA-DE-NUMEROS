{
  "nbformat": 4,
  "nbformat_minor": 0,
  "metadata": {
    "colab": {
      "name": "02_expansionBaseB.ipynb",
      "provenance": [],
      "collapsed_sections": [],
      "authorship_tag": "ABX9TyMknJ4UHhVRqAaGlvTWFrYi",
      "include_colab_link": true
    },
    "kernelspec": {
      "name": "python3",
      "display_name": "Python 3"
    },
    "language_info": {
      "name": "python"
    }
  },
  "cells": [
    {
      "cell_type": "markdown",
      "metadata": {
        "id": "view-in-github",
        "colab_type": "text"
      },
      "source": [
        "<a href=\"https://colab.research.google.com/github/TMikeM/TEORIA-DE-NUMEROS/blob/main/02_expansionBaseB.ipynb\" target=\"_parent\"><img src=\"https://colab.research.google.com/assets/colab-badge.svg\" alt=\"Open In Colab\"/></a>"
      ]
    },
    {
      "cell_type": "markdown",
      "source": [
        "#<center>**EXPANSION BASE B**</center>\n",
        "> A continuacion se realizara un programa, el cual convertira un numero ingresado por el usuario, siguiende la guia a convertir en base $b$ un numero \n",
        "$n$ $entero$.\n",
        "\n",
        "# <center><img src=\"https://drive.google.com/uc?id=1fFmxSFryP0V8zxWVSNGopH5DnRGe8QiY\" width=\"550px\" height=\"210px\"></center>\n",
        "\n",
        "\n",
        "\n",
        "\n"
      ],
      "metadata": {
        "id": "0Zw_qSfbCSkf"
      }
    },
    {
      "cell_type": "code",
      "source": [
        "#Importamos la libreria numpy para usar arreglos\n",
        "import numpy as np"
      ],
      "metadata": {
        "id": "qjGUXBq4Ezli"
      },
      "execution_count": 29,
      "outputs": []
    },
    {
      "cell_type": "code",
      "source": [
        "#Algoritmo para pasar un numero entero a base \n",
        "def expansion(n,b):\n",
        "  if b>1 and n>=0: #restricciones para el funcionamiento\n",
        "    q = n\n",
        "    k = 0\n",
        "    resultado=[]\n",
        "    while q != 0:\n",
        "      a_k = q % b\n",
        "      q = q // b\n",
        "      k = k + 1\n",
        "      resultado.append(a_k)\n",
        "    return np.flip(resultado) #usamos el np.flip() para invertir el arreglo \n",
        "  else: \n",
        "    print(\"El numero b tiene que ser mayor que 1 (b>1) o el numero n es negativo\")"
      ],
      "metadata": {
        "id": "odAgHElh-lpS"
      },
      "execution_count": 43,
      "outputs": []
    },
    {
      "cell_type": "code",
      "source": [
        "expansion(12,2)"
      ],
      "metadata": {
        "colab": {
          "base_uri": "https://localhost:8080/"
        },
        "id": "9pqiKnmGClOj",
        "outputId": "fa5d1565-1e7c-4f5d-cf8c-2b0ba4bf2017"
      },
      "execution_count": 47,
      "outputs": [
        {
          "output_type": "execute_result",
          "data": {
            "text/plain": [
              "array([1, 1, 0, 0])"
            ]
          },
          "metadata": {},
          "execution_count": 47
        }
      ]
    },
    {
      "cell_type": "code",
      "source": [
        "#Prueba con la funcion binaria preestablecida de python para comparar con el algoritmo.\n",
        "bin(12)"
      ],
      "metadata": {
        "colab": {
          "base_uri": "https://localhost:8080/",
          "height": 35
        },
        "id": "6NOPKbPXDGFc",
        "outputId": "438bd351-ea09-42ae-8c56-07dd613bc8f6"
      },
      "execution_count": 46,
      "outputs": [
        {
          "output_type": "execute_result",
          "data": {
            "application/vnd.google.colaboratory.intrinsic+json": {
              "type": "string"
            },
            "text/plain": [
              "'0b1100'"
            ]
          },
          "metadata": {},
          "execution_count": 46
        }
      ]
    }
  ]
}
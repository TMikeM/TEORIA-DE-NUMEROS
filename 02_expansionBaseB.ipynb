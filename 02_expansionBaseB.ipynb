{
  "nbformat": 4,
  "nbformat_minor": 0,
  "metadata": {
    "colab": {
      "name": "02_expansionBaseB.ipynb",
      "provenance": [],
      "collapsed_sections": [],
      "authorship_tag": "ABX9TyMknJ4UHhVRqAaGlvTWFrYi",
      "include_colab_link": true
    },
    "kernelspec": {
      "name": "python3",
      "display_name": "Python 3"
    },
    "language_info": {
      "name": "python"
    }
  },
  "cells": [
    {
      "cell_type": "markdown",
      "metadata": {
        "id": "view-in-github",
        "colab_type": "text"
      },
      "source": [
        "<a href=\"https://colab.research.google.com/github/TMikeM/TEORIA-DE-NUMEROS/blob/main/02_expansionBaseB.ipynb\" target=\"_parent\"><img src=\"https://colab.research.google.com/assets/colab-badge.svg\" alt=\"Open In Colab\"/></a>"
      ]
    },
    {
      "cell_type": "markdown",
      "source": [
        "#<center>**EXPANSION BASE B**</center>\n",
        "> A continuacion se realizara un programa, el cual convertira un numero ingresado por el usuario, siguiende la guia a convertir en base $b$ un numero \n",
        "$n$ $entero$.\n",
        "\n",
        "# <center><img src=\"https://drive.google.com/uc?id=1fFmxSFryP0V8zxWVSNGopH5DnRGe8QiY\" width=\"550px\" height=\"210px\"></center>\n",
        "\n",
        "\n",
        "\n",
        "\n"
      ],
      "metadata": {
        "id": "0Zw_qSfbCSkf"
      }
    },
    {
      "cell_type": "code",
      "source": [
        "#Importamos la libreria numpy para usar arreglos\n",
        "import numpy as np"
      ],
      "metadata": {
        "id": "qjGUXBq4Ezli"
      },
      "execution_count": 29,
      "outputs": []
    },
    {
      "cell_type": "code",
      "source": [
        "#Algoritmo para pasar un numero entero a base \n",
        "def expansion(n,b):\n",
        "  if b>1 and n>=0: #restricciones para el funcionamiento\n",
        "    q = n\n",
        "    k = 0\n",
        "    resultado=[]\n",
        "    while q != 0:\n",
        "      a_k = q % b\n",
        "      q = q // b\n",
        "      k = k + 1\n",
        "      resultado.append(a_k)\n",
        "    return np.flip(resultado) #usamos el np.flip() para invertir el arreglo \n",
        "  else: \n",
        "    print(\"El numero b tiene que ser mayor que 1 (b>1) o el numero n es negativo\")"
      ],
      "metadata": {
        "id": "odAgHElh-lpS"
      },
      "execution_count": 43,
      "outputs": []
    },
    {
      "cell_type": "code",
      "source": [
        "expansion(12,2)"
      ],
      "metadata": {
        "colab": {
          "base_uri": "https://localhost:8080/"
        },
        "id": "9pqiKnmGClOj",
        "outputId": "9ff3cc20-a311-460c-f7a7-2ed302102bb0"
      },
      "execution_count": 44,
      "outputs": [
        {
          "output_type": "stream",
          "name": "stdout",
          "text": [
            "El numero b tiene que ser mayor que 1 (b>1) o el numero n es negativo\n"
          ]
        }
      ]
    },
    {
      "cell_type": "code",
      "source": [
        "#Prueba con la funcion binaria preestablecida de python para comparar con el algoritmo.\n",
        "bin(12)"
      ],
      "metadata": {
        "colab": {
          "base_uri": "https://localhost:8080/",
          "height": 35
        },
        "id": "6NOPKbPXDGFc",
        "outputId": "ea93a0ca-62f5-49fd-8b9e-d13c87a9819e"
      },
      "execution_count": 45,
      "outputs": [
        {
          "output_type": "execute_result",
          "data": {
            "application/vnd.google.colaboratory.intrinsic+json": {
              "type": "string"
            },
            "text/plain": [
              "'-0b1100'"
            ]
          },
          "metadata": {},
          "execution_count": 45
        }
      ]
    }
  ]
}
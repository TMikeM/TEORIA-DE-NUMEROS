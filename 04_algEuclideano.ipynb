{
  "nbformat": 4,
  "nbformat_minor": 0,
  "metadata": {
    "colab": {
      "name": "04_algEuclideano.ipynb",
      "provenance": [],
      "authorship_tag": "ABX9TyPr2F5gRColRtXay7JMw8cH",
      "include_colab_link": true
    },
    "kernelspec": {
      "name": "python3",
      "display_name": "Python 3"
    },
    "language_info": {
      "name": "python"
    }
  },
  "cells": [
    {
      "cell_type": "markdown",
      "metadata": {
        "id": "view-in-github",
        "colab_type": "text"
      },
      "source": [
        "<a href=\"https://colab.research.google.com/github/TMikeM/TEORIA-DE-NUMEROS/blob/main/04_algEuclideano.ipynb\" target=\"_parent\"><img src=\"https://colab.research.google.com/assets/colab-badge.svg\" alt=\"Open In Colab\"/></a>"
      ]
    },
    {
      "cell_type": "markdown",
      "source": [
        "# <center>**ALGORITMO DE EUCLIDES**</center>\n",
        "\n",
        "<center><img src=\"https://drive.google.com/uc?id=10b6dkmUULdM3eAaCt1MwKoTyVo2QyfWp\" width=\"400px\" height=\"250px\"></center>\n",
        "\n",
        "\n",
        "Dados $a=b\\cdot q+r$ donde $a,b,c$ son enteros, entonces el maximo comun divisor seria $$mcd(a,b) = mcd(br)$$\n",
        "\n",
        "De allí podemos entonces calcular de forma algoritmica el mcd de dos numeros.\n"
      ],
      "metadata": {
        "id": "skJMIvEsx3W7"
      }
    },
    {
      "cell_type": "code",
      "source": [
        "#Los valores anteriormente pedidos se ingresan en el siguiente algoritmo definido\n",
        "def mcd(a,b):\n",
        "  x = a\n",
        "  y = b\n",
        "  while y!=0:\n",
        "    r = x%y \n",
        "    x = y \n",
        "    y = r\n",
        "  return x"
      ],
      "metadata": {
        "id": "EnD7mbAM0Z9b"
      },
      "execution_count": 19,
      "outputs": []
    },
    {
      "cell_type": "code",
      "source": [
        "#Para comprobar si son primos relativos\n",
        "def primos_relativos(a,b):\n",
        "  if a>0 and b>0: #No permite ingresar numeros negativos\n",
        "    if  mcd(a,b) == 1:\n",
        "      print(f\"\\nLos numeros {a} y {b} SI! son primos relativos \")\n",
        "    else:\n",
        "      print(f\"\\nLos numeros {a} y {b} NO! son primos relativos \")\n",
        "  else:\n",
        "    print(\"El algoritmo no funciona con numeros negativos\")"
      ],
      "metadata": {
        "id": "pw0FX0wg38nb"
      },
      "execution_count": 20,
      "outputs": []
    },
    {
      "cell_type": "code",
      "source": [
        "#Primero se píden al usuario los numeros para hallar el maximo comun divisor\n",
        "print(\"**Algoritmo para hallar el MCD (maximo comun divisor)**\")\n",
        "\n",
        "print(\"___________________________________________\\n\")\n",
        "a = int(input(\"Ingresa el primer valor positivo: \"))\n",
        "b = int(input(\"Ingresa el segundo valor positivo: \"))\n",
        "print(\"___________________________________________\")\n",
        "\n",
        "#Llamamos la funcion primos relativos para confirmar la teoria.\n",
        "primos_relativos(a,b)"
      ],
      "metadata": {
        "colab": {
          "base_uri": "https://localhost:8080/"
        },
        "id": "qp521HYt30yz",
        "outputId": "860e39a0-4b7c-49e4-ca79-31e713de4e2e"
      },
      "execution_count": 21,
      "outputs": [
        {
          "output_type": "stream",
          "name": "stdout",
          "text": [
            "**Algoritmo para hallar el MCD (maximo comun divisor)**\n",
            "___________________________________________\n",
            "\n",
            "Ingresa el primer valor positivo: -4620\n",
            "Ingresa el segundo valor positivo: 101\n",
            "___________________________________________\n",
            "El algoritmo no funciona con numeros negativos\n"
          ]
        }
      ]
    }
  ]
}
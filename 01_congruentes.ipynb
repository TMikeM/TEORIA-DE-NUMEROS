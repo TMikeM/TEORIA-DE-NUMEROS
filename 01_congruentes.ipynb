{
  "nbformat": 4,
  "nbformat_minor": 0,
  "metadata": {
    "colab": {
      "name": "01_congruentes.ipynb",
      "provenance": [],
      "collapsed_sections": [],
      "mount_file_id": "1sYZM4aCfmmVTkdp-HvmzaE3YqwncZ9ts",
      "authorship_tag": "ABX9TyNrlQzcr06/YDHBw3ZmOurm",
      "include_colab_link": true
    },
    "kernelspec": {
      "name": "python3",
      "display_name": "Python 3"
    },
    "language_info": {
      "name": "python"
    }
  },
  "cells": [
    {
      "cell_type": "markdown",
      "metadata": {
        "id": "view-in-github",
        "colab_type": "text"
      },
      "source": [
        "<a href=\"https://colab.research.google.com/github/TMikeM/TEORIA-DE-NUMEROS/blob/main/01_congruentes.ipynb\" target=\"_parent\"><img src=\"https://colab.research.google.com/assets/colab-badge.svg\" alt=\"Open In Colab\"/></a>"
      ]
    },
    {
      "cell_type": "markdown",
      "source": [
        "#**NUMEROS CONGRUENTES CON Mod_M:**# \n",
        "A continuacion se realizara un programa para saber si un numero $A$ es congruente con un numero $B$ teniendo estos un $mod_m$, siendo m un mismo valor.\n",
        "\n",
        "#<center>![texto del vínculo](https://drive.google.com/uc?id=1THhnXjM_J4j1alP5DV7zeld1V_nyK0aN)\n"
      ],
      "metadata": {
        "id": "31Aup27o2fXh"
      }
    },
    {
      "cell_type": "code",
      "execution_count": 2,
      "metadata": {
        "colab": {
          "base_uri": "https://localhost:8080/"
        },
        "id": "jIvMnkAt2aMA",
        "outputId": "72c67a97-631a-4a03-8922-c5816b90028d"
      },
      "outputs": [
        {
          "output_type": "stream",
          "name": "stdout",
          "text": [
            "Saber si A es congruente con B teniendo un Mod_m igual\n",
            "___________________________________________\n",
            "\n",
            "Escribe el numero a: 10\n",
            "Escribe el numero b: 5\n",
            "Escribe el numero para el modulo: 2\n",
            "___________________________________________\n",
            "\n",
            "El numero 10 y 5, NO! SON CONGRUENTES con el mod_2\n"
          ]
        }
      ],
      "source": [
        "#SE ME OCURRIO REALIZAR LOS RESIDUOS PARA CADA NUMEROS Y COMPARARLOS SI SALEN IGUAL SON CONGRUENTE DE LO CONTRARIO NO.5\n",
        "\n",
        "print(\"Saber si A es congruente con B teniendo un Mod_m igual\")\n",
        "print(\"___________________________________________\\n\")\n",
        "a = int(input(\"Escribe el numero a: \"))\n",
        "b = int(input(\"Escribe el numero b: \"))\n",
        "m = int(input(\"Escribe el numero para el modulo: \"))\n",
        "print(\"___________________________________________\")\n",
        "if (a%m) == (b%m):\n",
        "  print(f\"\\nEl numero {a} y {b}, SI! SON CONGRUENTES con el mod_{m}\")\n",
        "\n",
        "else:\n",
        "  print(f\"\\nEl numero {a} y {b}, NO! SON CONGRUENTES con el mod_{m}\")"
      ]
    }
  ]
}
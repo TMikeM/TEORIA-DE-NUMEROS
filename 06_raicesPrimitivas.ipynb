{
  "nbformat": 4,
  "nbformat_minor": 0,
  "metadata": {
    "colab": {
      "name": "06_raicesPrimitivas.ipynb",
      "provenance": [],
      "authorship_tag": "ABX9TyNWgVMUZiMksfvMprOHUq3i",
      "include_colab_link": true
    },
    "kernelspec": {
      "name": "python3",
      "display_name": "Python 3"
    },
    "language_info": {
      "name": "python"
    }
  },
  "cells": [
    {
      "cell_type": "markdown",
      "metadata": {
        "id": "view-in-github",
        "colab_type": "text"
      },
      "source": [
        "<a href=\"https://colab.research.google.com/github/TMikeM/TEORIA-DE-NUMEROS/blob/main/06_raicesPrimitivas.ipynb\" target=\"_parent\"><img src=\"https://colab.research.google.com/assets/colab-badge.svg\" alt=\"Open In Colab\"/></a>"
      ]
    },
    {
      "cell_type": "code",
      "execution_count": 27,
      "metadata": {
        "id": "MdGdyK3WqXe3"
      },
      "outputs": [],
      "source": [
        "def es_raiz_primitiva(n,p):\n",
        "  residuo = 0\n",
        "  for i in range(1,p): #Este for recorre todas las potencias hasta p-1 es decir se eleva hasta 10\n",
        "      rta = n**i\n",
        "      print(f\"El numero base es: {n} y esta elevado a {i}\")\n",
        "      residuo = rta%p\n",
        "      print(f\"- El residuo es: **{residuo}**\\n\")"
      ]
    },
    {
      "cell_type": "code",
      "source": [
        "es_raiz_primitiva(2,11)"
      ],
      "metadata": {
        "colab": {
          "base_uri": "https://localhost:8080/"
        },
        "id": "yLB3fEwctCWp",
        "outputId": "891427ff-e985-437b-908c-03e21adb1f77"
      },
      "execution_count": 28,
      "outputs": [
        {
          "output_type": "stream",
          "name": "stdout",
          "text": [
            "El numero base es: 2 y esta elevado a 1\n",
            "- El residuo es: **2**\n",
            "\n",
            "El numero base es: 2 y esta elevado a 2\n",
            "- El residuo es: **4**\n",
            "\n",
            "El numero base es: 2 y esta elevado a 3\n",
            "- El residuo es: **8**\n",
            "\n",
            "El numero base es: 2 y esta elevado a 4\n",
            "- El residuo es: **5**\n",
            "\n",
            "El numero base es: 2 y esta elevado a 5\n",
            "- El residuo es: **10**\n",
            "\n",
            "El numero base es: 2 y esta elevado a 6\n",
            "- El residuo es: **9**\n",
            "\n",
            "El numero base es: 2 y esta elevado a 7\n",
            "- El residuo es: **7**\n",
            "\n",
            "El numero base es: 2 y esta elevado a 8\n",
            "- El residuo es: **3**\n",
            "\n",
            "El numero base es: 2 y esta elevado a 9\n",
            "- El residuo es: **6**\n",
            "\n",
            "El numero base es: 2 y esta elevado a 10\n",
            "- El residuo es: **1**\n",
            "\n"
          ]
        }
      ]
    }
  ]
}
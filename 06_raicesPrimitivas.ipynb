{
  "nbformat": 4,
  "nbformat_minor": 0,
  "metadata": {
    "colab": {
      "name": "06_raicesPrimitivas.ipynb",
      "provenance": [],
      "include_colab_link": true
    },
    "kernelspec": {
      "name": "python3",
      "display_name": "Python 3"
    },
    "language_info": {
      "name": "python"
    }
  },
  "cells": [
    {
      "cell_type": "markdown",
      "metadata": {
        "id": "view-in-github",
        "colab_type": "text"
      },
      "source": [
        "<a href=\"https://colab.research.google.com/github/TMikeM/TEORIA-DE-NUMEROS/blob/main/06_raicesPrimitivas.ipynb\" target=\"_parent\"><img src=\"https://colab.research.google.com/assets/colab-badge.svg\" alt=\"Open In Colab\"/></a>"
      ]
    },
    {
      "cell_type": "markdown",
      "source": [
        "#<center>**RAICES PRIMITIVAS**</center>\n",
        "\n",
        "Una raiz primitiva módulo $p$ (siendo $p$ primo) es un entero $r \\in \\mathbb{Z}_p$ tal que todo elemento diferente de cero en $\\mathbb{Z}_p$ es una potencia de $r$. Sin embargo...\n",
        "\n",
        "\"Cuando calculamos las potencias de 2 en $\\mathbb{Z}_{11}$, obtenemos que:\n",
        "  \n",
        ">$2^1 = 2\\; mod 11 = 2,\\; 2^2 = 4\\; mod 11 = 4,\\; 2^3 = 8,\\; 2^4 = 5,\\; 2^5 = 10,\\;  2^6 = 9,\\;  2^7 = 7,\\; 2^8 = 3,\\; 2^9 = 6,\\; 2^{10} = 1$\n",
        "\n",
        "Por que cada elemento (diferente de cero) de $\\mathbb{Z}_{11}$ (Es decir {1,2,3,4,5,6,7,8,9,10}) es potencia de 2, por tanto, 2 es raíz primitiva de 11.\n",
        "\n",
        "Sin embargo, cuando calculamos las potencias de 3 modulo 11, obtenemos:\n",
        "\n",
        ">$3^1 =3 mod 11 = 3,\\; 3^2 = 9,\\; 3^3=5,\\; 3^4=4,\\; 3^5 =1,\\; 3^6=3,\\; 3^7=9,\\; 3^8=5,\\; 3^9=4,\\; 3^{10}=1$\n",
        "\n",
        "- Note que ***este patrón se repite*** cuando calculamos potencias de 3 más altas, esto se debe a que ***no todos*** los elementos de $\\mathbb{Z}_{11}$, son potencias de 3, por tanto, 3 no es raíz primitiva de 11.\"\n",
        "\n",
        "(Ejercicio tomado del Libro: *Mathematics Discrete and It's applications by Kenneth Rose 7th Edition*)\n",
        "\n",
        "En este ejercicio se desarolló la función `es_raiz_primitiva(n,p)` que recibe un número entero positivo *n* y un número  primo *p* y cuyo output es **\"Si!\"**  si  es raiz primitiva módulo **\"NO!\"**  en caso contrario.\n",
        "\n",
        "\n"
      ],
      "metadata": {
        "id": "PWMalRySu5FO"
      }
    },
    {
      "cell_type": "code",
      "source": [
        "def es_raiz_primitiva(n,p):\n",
        "  residuo = 0\n",
        "  contUno = 0\n",
        "  for i in range(1,p): #Este for recorre todas las potencias hasta p-1 es decir, si p=11, p-1=10\n",
        "      rta = n**i\n",
        "      residuo = rta%p\n",
        "      if residuo == 1: #Si es congruente con 1 mod p entonces entra sin embargo, no se debe repetir!\n",
        "        contUno = contUno + 1\n",
        "      \n",
        "  if contUno > 1:\n",
        "    print(\"No!\")\n",
        "  else:\n",
        "    print(\"Sí!\")\n"
      ],
      "metadata": {
        "id": "_o3Gc_gs3eWq"
      },
      "execution_count": null,
      "outputs": []
    },
    {
      "cell_type": "code",
      "source": [
        "es_raiz_primitiva(2,11)\n",
        "es_raiz_primitiva(3,11)"
      ],
      "metadata": {
        "colab": {
          "base_uri": "https://localhost:8080/"
        },
        "id": "yLB3fEwctCWp",
        "outputId": "eb2d9b56-d6d7-4a40-d39a-34d153f35814"
      },
      "execution_count": null,
      "outputs": [
        {
          "output_type": "stream",
          "name": "stdout",
          "text": [
            "Sí!\n",
            "No!\n"
          ]
        }
      ]
    },
    {
      "cell_type": "code",
      "source": [
        "#Prueba de escritorio de la funcion\n",
        "def es_raiz_primitiva_test(n,p):\n",
        "  residuo = 0\n",
        "  cont=0\n",
        "  for i in range(1,p): #Este for recorre todas las potencias hasta p-1 es decir se eleva hasta 10\n",
        "      rta = n**i\n",
        "      print(f\"El numero base es: {n} y esta elevado a {i}\")\n",
        "      residuo = rta%p\n",
        "      print(f\"- El residuo es: **{residuo}**\\n\")\n",
        "      if residuo == 1:\n",
        "        cont = cont + 1\n",
        "  \n",
        "  if cont > 1:\n",
        "         print(\"No!\")\n",
        "  else:\n",
        "    print(\"Sí!\")"
      ],
      "metadata": {
        "id": "FnBwlC8rFaV4"
      },
      "execution_count": null,
      "outputs": []
    },
    {
      "cell_type": "code",
      "source": [
        "es_raiz_primitiva_test(2,11)"
      ],
      "metadata": {
        "id": "a54iQGAO4OsB"
      },
      "execution_count": null,
      "outputs": []
    }
  ]
}
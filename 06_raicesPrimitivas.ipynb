{
  "nbformat": 4,
  "nbformat_minor": 0,
  "metadata": {
    "colab": {
      "name": "06_raicesPrimitivas.ipynb",
      "provenance": [],
      "authorship_tag": "ABX9TyMcLWPKsLPyEBcueRCbYWRU",
      "include_colab_link": true
    },
    "kernelspec": {
      "name": "python3",
      "display_name": "Python 3"
    },
    "language_info": {
      "name": "python"
    }
  },
  "cells": [
    {
      "cell_type": "markdown",
      "metadata": {
        "id": "view-in-github",
        "colab_type": "text"
      },
      "source": [
        "<a href=\"https://colab.research.google.com/github/TMikeM/TEORIA-DE-NUMEROS/blob/main/06_raicesPrimitivas.ipynb\" target=\"_parent\"><img src=\"https://colab.research.google.com/assets/colab-badge.svg\" alt=\"Open In Colab\"/></a>"
      ]
    },
    {
      "cell_type": "code",
      "execution_count": 38,
      "metadata": {
        "id": "MdGdyK3WqXe3"
      },
      "outputs": [],
      "source": [
        "def es_raiz_primitiva(n,p):\n",
        "  residuo = 0\n",
        "  for i in range(1,p): #Este for recorre todas las potencias hasta p-1 es decir se eleva hasta 10\n",
        "      rta = n**i\n",
        "      print(f\"El numero base es: {n} y esta elevado a {i}\")\n",
        "      residuo = rta%p\n",
        "      print(f\"- El residuo es: **{residuo}**\\n\")"
      ]
    },
    {
      "cell_type": "code",
      "source": [
        "es_raiz_primitiva(5,14)"
      ],
      "metadata": {
        "colab": {
          "base_uri": "https://localhost:8080/"
        },
        "id": "yLB3fEwctCWp",
        "outputId": "c75fb08c-df0e-4cfb-d1a7-0f9d1a61e670"
      },
      "execution_count": 39,
      "outputs": [
        {
          "output_type": "stream",
          "name": "stdout",
          "text": [
            "El numero base es: 5 y esta elevado a 1\n",
            "- El residuo es: **5**\n",
            "\n",
            "El numero base es: 5 y esta elevado a 2\n",
            "- El residuo es: **11**\n",
            "\n",
            "El numero base es: 5 y esta elevado a 3\n",
            "- El residuo es: **13**\n",
            "\n",
            "El numero base es: 5 y esta elevado a 4\n",
            "- El residuo es: **9**\n",
            "\n",
            "El numero base es: 5 y esta elevado a 5\n",
            "- El residuo es: **3**\n",
            "\n",
            "El numero base es: 5 y esta elevado a 6\n",
            "- El residuo es: **1**\n",
            "\n",
            "El numero base es: 5 y esta elevado a 7\n",
            "- El residuo es: **5**\n",
            "\n",
            "El numero base es: 5 y esta elevado a 8\n",
            "- El residuo es: **11**\n",
            "\n",
            "El numero base es: 5 y esta elevado a 9\n",
            "- El residuo es: **13**\n",
            "\n",
            "El numero base es: 5 y esta elevado a 10\n",
            "- El residuo es: **9**\n",
            "\n",
            "El numero base es: 5 y esta elevado a 11\n",
            "- El residuo es: **3**\n",
            "\n",
            "El numero base es: 5 y esta elevado a 12\n",
            "- El residuo es: **1**\n",
            "\n",
            "El numero base es: 5 y esta elevado a 13\n",
            "- El residuo es: **5**\n",
            "\n"
          ]
        }
      ]
    }
  ]
}
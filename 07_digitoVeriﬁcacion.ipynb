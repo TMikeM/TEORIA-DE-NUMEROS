{
  "nbformat": 4,
  "nbformat_minor": 0,
  "metadata": {
    "colab": {
      "name": "07_digitoVeriﬁcacion.ipynb",
      "provenance": [],
      "include_colab_link": true
    },
    "kernelspec": {
      "name": "python3",
      "display_name": "Python 3"
    },
    "language_info": {
      "name": "python"
    }
  },
  "cells": [
    {
      "cell_type": "markdown",
      "metadata": {
        "id": "view-in-github",
        "colab_type": "text"
      },
      "source": [
        "<a href=\"https://colab.research.google.com/github/TMikeM/TEORIA-DE-NUMEROS/blob/main/07_digitoVeri%EF%AC%81cacion.ipynb\" target=\"_parent\"><img src=\"https://colab.research.google.com/assets/colab-badge.svg\" alt=\"Open In Colab\"/></a>"
      ]
    },
    {
      "cell_type": "markdown",
      "source": [
        "Los códigos `ISBN-10` son códigos de 10 dígitos  $\\;\\;x_1 x_2 \\cdots x_{10}\\;\\;$  asignados por el publicador. El dígito de veriﬁcación para la identiﬁcación `ISBN-10` es un dígito o la letra X (para representar el número 10). Este dígito se selecciona de\n",
        "la siguiente forma:\n",
        "\n",
        "$$x_{10} = \\sum_{i=1}^{9} i x_{i} ( mod \\; 11) $$\n",
        "\n",
        "Se codificó una función `digito_verificacion(n)`  que reciba los primeros nueve digitos de un código y cuyo output sea: el código de veriﬁcación `ISBN-10`."
      ],
      "metadata": {
        "id": "FbXfZs0WNAmy"
      }
    },
    {
      "cell_type": "code",
      "source": [
        "digitos=[]\n",
        "valor = 0\n",
        "w = 0\n",
        "suma = 0\n",
        "residuo = 0\n",
        "n = int(input(\"ingrese la cantidad de valores a ingresar al arreglo:\"))\n",
        "\n",
        "for i in range(1,n+1):\n",
        "  valor = int(input(f\"Ingrese el valor numero {i} del arreglo: \"))\n",
        "  digitos.append(valor)\n",
        "\n",
        "\n",
        "for j in digitos:\n",
        "  suma = (j*w) + suma\n",
        "  print(f\"Valor actual de la suma: {suma}\")\n",
        "  w += 1\n",
        "\n",
        "residuo = suma%11\n",
        "print(f\"El valor del residuo es: {residuo}\")\n",
        "digitos.append(residuo)\n",
        "print(f\"El ultimo digito X_10 es: {residuo}\")\n",
        "print(f\"El arreglo queda de la siguiente manera: {digitos} \")\n",
        "  \n",
        "\n",
        "\n",
        " \n",
        "  \n",
        "\n"
      ],
      "metadata": {
        "id": "1biaicVB4AeM",
        "outputId": "98987cc3-de33-4604-fbaa-145d4fb7ae95",
        "colab": {
          "base_uri": "https://localhost:8080/"
        }
      },
      "execution_count": 21,
      "outputs": [
        {
          "output_type": "stream",
          "name": "stdout",
          "text": [
            "ingrese la cantidad de valores a ingresar al arreglo:9\n",
            "Ingrese el valor numero 1 del arreglo: 0\n",
            "Ingrese el valor numero 2 del arreglo: 0\n",
            "Ingrese el valor numero 3 del arreglo: 7\n",
            "Ingrese el valor numero 4 del arreglo: 2\n",
            "Ingrese el valor numero 5 del arreglo: 8\n",
            "Ingrese el valor numero 6 del arreglo: 8\n",
            "Ingrese el valor numero 7 del arreglo: 0\n",
            "Ingrese el valor numero 8 del arreglo: 0\n",
            "Ingrese el valor numero 9 del arreglo: 8\n",
            "Valor actual de la suma: 0\n",
            "Valor actual de la suma: 0\n",
            "Valor actual de la suma: 14\n",
            "Valor actual de la suma: 20\n",
            "Valor actual de la suma: 52\n",
            "Valor actual de la suma: 92\n",
            "Valor actual de la suma: 92\n",
            "Valor actual de la suma: 92\n",
            "Valor actual de la suma: 156\n",
            "El valor del residuo es: 2\n",
            "El ultimo digito X_10 es: 2\n",
            "El arreglo queda de la siguiente manera: [0, 0, 7, 2, 8, 8, 0, 0, 8, 2] \n"
          ]
        }
      ]
    }
  ]
}
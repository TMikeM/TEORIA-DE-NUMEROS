{
  "nbformat": 4,
  "nbformat_minor": 0,
  "metadata": {
    "colab": {
      "name": "Copia de 07_digitoVeriﬁcacion.ipynb",
      "provenance": [],
      "include_colab_link": true
    },
    "kernelspec": {
      "name": "python3",
      "display_name": "Python 3"
    },
    "language_info": {
      "name": "python"
    }
  },
  "cells": [
    {
      "cell_type": "markdown",
      "metadata": {
        "id": "view-in-github",
        "colab_type": "text"
      },
      "source": [
        "<a href=\"https://colab.research.google.com/github/TMikeM/TEORIA-DE-NUMEROS/blob/main/07_digitoVeri%EF%AC%81cacion.ipynb\" target=\"_parent\"><img src=\"https://colab.research.google.com/assets/colab-badge.svg\" alt=\"Open In Colab\"/></a>"
      ]
    },
    {
      "cell_type": "markdown",
      "source": [
        "#<center>**DIGITOS DE VERIFICACIÓN ISBN-10**</center>\n",
        "Los códigos `ISBN-10` son códigos de 10 dígitos  $\\;\\;x_1 x_2 \\cdots x_{10}\\;\\;$  asignados por el publicador. El dígito de veriﬁcación para la identiﬁcación `ISBN-10` es un dígito o la letra X (para representar el número 10). Este dígito se selecciona de\n",
        "la siguiente forma:\n",
        "\n",
        "$$x_{10} = \\sum_{i=1}^{9} i x_{i} ( mod \\; 11) $$\n",
        "\n",
        "Se codificó una función `digito_verificacion(n)`  que reciba los primeros nueve digitos de un código y cuyo output sea: el código de veriﬁcación `ISBN-10`."
      ],
      "metadata": {
        "id": "FbXfZs0WNAmy"
      }
    },
    {
      "cell_type": "code",
      "source": [
        "def digito_verificacion(n):\n",
        "  digitos=[] #Donde se almacena el codigo ISBN\n",
        "  valor = 0 \n",
        "  i = 1 \n",
        "  suma = 0\n",
        "  residuo = 0 #Esta variable será x_10 en el enunciado\n",
        "  mod = tam_digitos + 2 #Si son 9 digitos entonces el modulo será 11\n",
        "  \n",
        "  #Registramos cada valor en digitos[] según la cantidad que escogimos\n",
        "  for j in range(1,tam_digitos+1):\n",
        "    valor = int(input(f\"Ingrese el valor numero {j} del arreglo: \"))\n",
        "    digitos.append(valor)\n",
        "\n",
        "  #Aquí se hace la sumatoria de i*x_i en la formula del enunciado\n",
        "  for x_i in digitos:\n",
        "    suma = (i*x_i) + suma\n",
        "    i += 1\n",
        "\n",
        "\n",
        "  residuo = suma%mod\n",
        "  digitos.append(residuo)\n",
        "\n",
        "  print(f\"El ultimo digito X_10 es: {residuo}\")\n",
        "  print(f\"El arreglo queda de la siguiente manera: {digitos} \")"
      ],
      "metadata": {
        "id": "KMx9WUmUkpL4"
      },
      "execution_count": 18,
      "outputs": []
    },
    {
      "cell_type": "code",
      "source": [
        "tam_digitos = int(input(\"ingrese la cantidad de valores a ingresar en digitos[]:\"))\n",
        "digito_verificacion(tam_digitos)"
      ],
      "metadata": {
        "colab": {
          "base_uri": "https://localhost:8080/"
        },
        "id": "OoTc8SGlrUGr",
        "outputId": "a680f137-70ee-462b-a7b7-34f8f99c83ac"
      },
      "execution_count": 15,
      "outputs": [
        {
          "output_type": "stream",
          "name": "stdout",
          "text": [
            "ingrese la cantidad de valores a ingresar en digitos[]:9\n",
            "Ingrese el valor numero 1 del arreglo: 0\n",
            "Ingrese el valor numero 2 del arreglo: 0\n",
            "Ingrese el valor numero 3 del arreglo: 2\n",
            "Ingrese el valor numero 4 del arreglo: 4\n",
            "Ingrese el valor numero 5 del arreglo: 6\n",
            "Ingrese el valor numero 6 del arreglo: 8\n",
            "Ingrese el valor numero 7 del arreglo: 0\n",
            "Ingrese el valor numero 8 del arreglo: 0\n",
            "Ingrese el valor numero 9 del arreglo: 0\n",
            "El ultimo digito X_10 es: 1\n",
            "El arreglo queda de la siguiente manera: [0, 0, 2, 4, 6, 8, 0, 0, 0, 1] \n"
          ]
        }
      ]
    },
    {
      "cell_type": "code",
      "source": [
        "#Prueba de escritorio del código\n",
        "digitos=[]\n",
        "valor = 0\n",
        "w = 1\n",
        "suma = 0\n",
        "residuo = 0\n",
        "n = int(input(\"ingrese la cantidad de valores a ingresar al arreglo:\"))\n",
        "\n",
        "for i in range(1,n+1):\n",
        "  valor = int(input(f\"Ingrese el valor numero {i} del arreglo: \"))\n",
        "  digitos.append(valor)\n",
        "\n",
        "\n",
        "for j in digitos:\n",
        "  suma = (j*w) + suma\n",
        "  print(f\"Valor actual de la suma: {suma}\")\n",
        "  w += 1\n",
        "\n",
        "residuo = suma%11\n",
        "print(f\"El valor del residuo es: {residuo}\")\n",
        "digitos.append(residuo)\n",
        "print(f\"El ultimo digito X_10 es: {residuo}\")\n",
        "print(f\"El arreglo queda de la siguiente manera: {digitos} \")"
      ],
      "metadata": {
        "id": "1biaicVB4AeM"
      },
      "execution_count": null,
      "outputs": []
    }
  ]
}
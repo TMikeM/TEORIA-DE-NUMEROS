{
  "nbformat": 4,
  "nbformat_minor": 0,
  "metadata": {
    "colab": {
      "name": "07_digitoVeriﬁcacion.ipynb",
      "provenance": [],
      "authorship_tag": "ABX9TyPvrm4s0BJoVG/31QYZSyHD",
      "include_colab_link": true
    },
    "kernelspec": {
      "name": "python3",
      "display_name": "Python 3"
    },
    "language_info": {
      "name": "python"
    }
  },
  "cells": [
    {
      "cell_type": "markdown",
      "metadata": {
        "id": "view-in-github",
        "colab_type": "text"
      },
      "source": [
        "<a href=\"https://colab.research.google.com/github/TMikeM/TEORIA-DE-NUMEROS/blob/main/07_digitoVeri%EF%AC%81cacion.ipynb\" target=\"_parent\"><img src=\"https://colab.research.google.com/assets/colab-badge.svg\" alt=\"Open In Colab\"/></a>"
      ]
    },
    {
      "cell_type": "markdown",
      "source": [
        "Los códigos `ISBN-10` son códigos de 10 dígitos  $\\;\\;x_1 x_2 \\cdots x_{10}\\;\\;$  asignados por el publicador. El dígito de veriﬁcación para la identiﬁcación `ISBN-10` es un dígito o la letra X (para representar el número 10). Este dígito se selecciona de\n",
        "la siguiente forma:\n",
        "\n",
        "$$x_{10} = \\sum_{i=1}^{9} i x_{i} ( mod \\; 11) $$\n",
        "\n",
        "Se codificó una función `digito_verificacion(n)`  que reciba los primeros nueve digitos de un código y cuyo output sea: el código de veriﬁcación `ISBN-10`."
      ],
      "metadata": {
        "id": "FbXfZs0WNAmy"
      }
    },
    {
      "cell_type": "code",
      "execution_count": null,
      "metadata": {
        "colab": {
          "base_uri": "https://localhost:8080/"
        },
        "id": "_ISAyn1WF0dX",
        "outputId": "6014f022-99be-44f5-870e-e7a1afca8b57"
      },
      "outputs": [
        {
          "output_type": "stream",
          "name": "stdout",
          "text": [
            "Escribe el numero los nueve digitos conservando un espacio entre ellos: 1 2 3 \n",
            "[1, 2, 3]\n",
            "6\n"
          ]
        }
      ],
      "source": [
        "y = 1\n",
        "suma = 0\n",
        "a_string = str(input(\"Escribe el numero los nueve digitos conservando un espacio entre ellos: \"))\n",
        "a_list = a_string.split()\n",
        "map_object = map(int, a_list)\n",
        "\n",
        "list_of_integers = list(map_object)\n",
        "print(list_of_integers)\n",
        "\n",
        "for y in range(len(list_of_integers)):\n",
        "  y = y + 1\n",
        "  suma = suma + y\n",
        "  \n",
        "  \n",
        "print(suma)\n"
      ]
    }
  ]
}